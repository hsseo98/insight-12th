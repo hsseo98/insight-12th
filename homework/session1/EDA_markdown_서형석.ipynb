{
 "cells": [
  {
   "cell_type": "markdown",
   "id": "bf505a34-3e27-496a-8320-c0bfeda8ec81",
   "metadata": {},
   "source": [
    "# 2차 교육세션 EDA <br>\n",
    "Markdown Sumamry"
   ]
  },
  {
   "cell_type": "markdown",
   "id": "8e2e7a33-4160-4df1-8e74-03ebaa622588",
   "metadata": {},
   "source": [
    "## 0. Data Analysis Process <br>\n",
    "\n",
    "**데이터 수집 -> 데이터 탐색 -> 데이터 전처리 -> 데이터 모델링** <br>\n",
    "자료를 수집하고, 자료의 모양과 특성을 파악하고, 각 데이터가 분석에 적절한 형태를 갖도록 전처리하고, 데이터를 유용한 정보로 추출하기 위해 모델을 구축하는 전 과정."
   ]
  },
  {
   "cell_type": "markdown",
   "id": "189337ab-9c75-4d47-a1d1-8240cc0e53fa",
   "metadata": {},
   "source": [
    "## 1. EDA 개념\n",
    "**데이터를 여러 가지 방식으로 파악하는 모든 과정**\n",
    "e.g., 시각화, 데이터 특이성 확인, 통계 그래프로 가설 검정 = 탐색과 이해!\n",
    "\n",
    "### (A) EDA의 대상이 일변량 or 다변량 ?\n",
    "Univariate = 단변량 <br>\n",
    "Multivariate = 다변량, 데이터의 관계성을 살피는 것이 주요 목적! <br>\n",
    "\n",
    "### (B) EDA의 종류\n",
    "1. 시각화\n",
    "   차트, 그림 등 데이터를 활용\n",
    "2. 비시각화\n",
    "   그래픽적 요소를 활용하지 않고, Statistics(통계량)을 확인하는 등 데이터를 확인하는 방법 <br>\n",
    "\n",
    "추세를 보고싶을 때는 시각화, 정확한 수치를 알고자 한다면 비시각화 방법이 목적에 맞겠다.\n",
    "\n",
    "### (C) EDA의 유형\n",
    "(일변량 or 다변량) * (시각화 or 비시각화) 로서 총 네 가지의 경우로 EDA가 가능하다."
   ]
  },
  {
   "cell_type": "markdown",
   "id": "50d15f69-5f1b-4a42-a19a-9f901fbcc0f5",
   "metadata": {},
   "source": [
    "## 2. 데이터 확인\n",
    "데이터 읽기와 쓰기. 데이터를 현재 작업공간으로 불러오는 방법\n",
    "\n",
    "### (A) 절대경로와 상대경로\n",
    "- 절대경로 = 파일의 전체 경로를 사용해 불러오기\n",
    "- 상대경로 = 현재 작업 디렉터리를 기준으로, 불러올 파일 경로의 상대적인 위치를 확인\n",
    "1. . 현재 디렉터리를 의미\n",
    "2. ..상위 디렉터리\n",
    "3. /최상위 디렉터리\n",
    "\n",
    "### (B) 데이터 입출력\n",
    "Reader, Writer 함수가 모두 존재 <br>\n",
    "read_*** / to_***로서 불러오고, 내보내는 매소드로활용 \n",
    "\n",
    "### (C) csv와 xlsx\n",
    "1. csv: 쉼표로 구분되는 텍스트 파일로서, 데이터의 크기가 작고 압축이 용이해 많이 사용\n",
    "2. xlsx: DataFrame의 형태로 저장된 엑셀파일. 다른 시트를 불러오고 싶을 때는 <br>\n",
    "   pd.read_excel(**.xlsx, sheet_name = \"****\") 매소드를 활용<br>\n",
    "   *utf8 인코딩이 작동하지 않을 때는 encoding ='cp949' 를 추가해준다.\n",
    "\n",
    "## 데이터셋 파악하기\n",
    "### (A) 데이터프레임 보기\n",
    "df.head(n)을 활용해 데이터의 모양을 확인할 수 있음.\n",
    "\n",
    "### (B) 데이터 변수 확인\n",
    "변수 =  column = feature = 열<br>\n",
    "\n",
    "질적, 범주형 데이터와 양적, 수치형 데이터로 크게 구분. <br>\n",
    "범주형 데이터는 또다시 명목형, 순서형 데이터로 구분\n",
    "수치형 데이터는 또다시 연속형, 이산형 데이터로 구분\n",
    "\n",
    "**pandas에서는 numpy에 기반한 자료형으로 구분. int64(정수형) / float65 (실수형) / object (문자열) / datetime, timedelta64 (시간형)**\n",
    "\n",
    "### (C) 데이터 분포 확인\n",
    "단변수 분석 중 가장 대표적인 것은 평균값, 최빈값, 중간값 등 변수 분포를 보는 것.<br>\n",
    "시각화로는 scatter plot, boxplot, histogram 등으로 쉽게 확인할 수 있다."
   ]
  },
  {
   "cell_type": "markdown",
   "id": "0e30f4c5-67e8-4702-8289-747e47c96cfe",
   "metadata": {},
   "source": [
    "## 3. 전처리\n",
    "\n",
    "**데이터를 적절한 방식으로 손질하는 과정**\n",
    "전처리는 머신러닝 등 분석의 정확도에 많은 영향을 준다. 데이터 품질 자체가 결과에 영향을 준다는 것!\n",
    "<br>**GIGO**\n",
    "\n",
    "1. 결측치 처리 - 누락된 데이터를 어떻게 처리할 것인가?\n",
    "   - 결측값 확인<br>\n",
    "   info() / value_counts / isnull().sum() / notnull() 등으로 결측치 확인<br>\n",
    "2. 결측치 처리의 방법\n",
    "   - 삭제: df.dropna(axis = 0 or 1, how = 'any' or 'all', subset = column, inplace = True or False)\n",
    "   - 대체: 결측값을 평균값, 최빈값 등을 활용해 대체: df.fillna()함수 이용<br>\n",
    "3. 이상치 처리 - 데이터의 범위에서 많이 벗어난 값을 처리하는 방법<br>\n",
    "4. 이상치 확인 방법: df.describe(), boxplot, z-score를 통해 mild outlier, extreme outlier 발견\n",
    "5. 피처 엔지니어링: 목적에 맞게 변수의 형태를 변경하거나 적절하게 처리하기\n",
    "   - 도메인 지식이 매우 중요한 역할을 함\n",
    "   - 레이블인코딩, 원핫인코딩 / 구간화 / 변환 / 스케일링 등의 방법 존재\n",
    "   - 레이블인코딩: 범주형 변수에 숫자 카테고리를 부여, 원핫인코딩은 이진벡터를 숫자 카테고리로 부여\n",
    "   - 구간화: 일정한 bin으로 나누어 데이터 바라보기\n",
    "   - 변환: 기존 피처를 다른 피처로 변환. 날짜 -> 요일 피처변환\n",
    "   - 스케일링: 서로 다른 범위, 크기를 가진 변수를 일정한 수준으로 맞추기\n",
    "         - standarscaler, minmaxscaler 등 활용"
   ]
  },
  {
   "cell_type": "markdown",
   "id": "453deced-892a-402d-bbd3-195921476d9d",
   "metadata": {},
   "source": [
    "## 4. 시각화\n",
    "**그래프, 차트, 그림, 도표 등 데이터를 시각적 요소로 변환해 패턴, 관계 추세 확인**\n",
    "각 방법의 parameter를 아는 것이 중요하다.\n",
    "\n",
    "### (A)  boxplot\n",
    "사분위수와 이상치를 보여주는 boxplot\n",
    "\n",
    "### (B) Countplot, histoplot\n",
    "범주형 변수의 빈도수를 확인하는 그래프<br>\n",
    "histplot은 수치형 변수의 구간별 빈도 수 확인\n",
    "\n",
    "### (C) distplot, kdeplot\n",
    "히스토그램을 연속적으로 곡선으로 연결한 그래프. 연속형 변수의 분포 확인 가능\n",
    "\n",
    "### (D) barplot, pointplot\n",
    "범주형 변수 x에 해당하는 수치형 변수 y의 평균 값 제공\n",
    "\n",
    "### (E) scatterplot, regplot\n",
    "산점도, 추세선이 포함된 산점도로서 연속형 변수 - 연속형 변수의 관계를 시각화하는 것에 도\n",
    "\n",
    "### (F) catplot\n",
    "category plot, 수치형 데이터와 범주형 데이터의 관계 확\n",
    "\n",
    "### (G) pieplot\n",
    "데이터의 category 분포를 확인\n",
    "\n",
    "### (H) heatmap\n",
    "변수 간 상관계수를 직관적으로 확인 가능. 연속형 - 연속형 관계 확인 시 유의미\n",
    "\n",
    "### (I) violingraph\n",
    "boxplot + kernel distribution estimation 그래프 <br>\n",
    "각 category에 대해 분포를 확인할 수 있음\n",
    "\n",
    "### (J) pairplot\n",
    "여러 그래프를 한 번에 찍기<br>\n",
    "여러 변 간 산점도를 한 번에 보여주는 그래프"
   ]
  },
  {
   "cell_type": "markdown",
   "id": "e3feec7c-6f5c-42d4-bc8e-f348aa5de4d7",
   "metadata": {},
   "source": []
  }
 ],
 "metadata": {
  "kernelspec": {
   "display_name": "Python 3 (ipykernel)",
   "language": "python",
   "name": "python3"
  },
  "language_info": {
   "codemirror_mode": {
    "name": "ipython",
    "version": 3
   },
   "file_extension": ".py",
   "mimetype": "text/x-python",
   "name": "python",
   "nbconvert_exporter": "python",
   "pygments_lexer": "ipython3",
   "version": "3.11.7"
  }
 },
 "nbformat": 4,
 "nbformat_minor": 5
}
